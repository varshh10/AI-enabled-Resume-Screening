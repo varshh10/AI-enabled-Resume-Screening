{
  "nbformat": 4,
  "nbformat_minor": 0,
  "metadata": {
    "colab": {
      "provenance": []
    },
    "kernelspec": {
      "name": "python3",
      "display_name": "Python 3"
    },
    "language_info": {
      "name": "python"
    }
  },
  "cells": [
    {
      "cell_type": "code",
      "execution_count": null,
      "metadata": {
        "colab": {
          "base_uri": "https://localhost:8080/"
        },
        "id": "N2fyl-lkq-oW",
        "outputId": "81fd1d0e-899c-4e64-acdc-b12a406fc9e7"
      },
      "outputs": [
        {
          "output_type": "stream",
          "name": "stdout",
          "text": [
            "   Feature1  Feature2  Feature3  Feature4\n",
            "0  0.696469  0.286139  0.226851  0.551315\n",
            "1  0.719469  0.423106  0.980764  0.684830\n",
            "2  0.480932  0.392118  0.343178  0.729050\n",
            "3  0.438572  0.059678  0.398044  0.737995\n"
          ]
        }
      ],
      "source": [
        "import numpy as np\n",
        "import pandas as pd\n",
        "\n",
        "# Set the random seed for reproducibility\n",
        "np.random.seed(123)\n",
        "\n",
        "# Create a 4x4 array of random values\n",
        "data = np.random.rand(4, 4)\n",
        "\n",
        "# Create the DataFrame\n",
        "df = pd.DataFrame(data, columns=['Feature1', 'Feature2', 'Feature3', 'Feature4'])\n",
        "\n",
        "# Print the DataFrame\n",
        "print(df)\n"
      ]
    },
    {
      "cell_type": "code",
      "source": [
        "import numpy as np\n",
        "import pandas as pd\n",
        "\n",
        "# Set the random seed for reproducibility\n",
        "np.random.seed(123)\n",
        "\n",
        "# Create a 4x4 array of random values\n",
        "data = np.random.rand(4, 4)\n",
        "\n",
        "# Create the DataFrame\n",
        "df = pd.DataFrame(data, columns=['Feature1', 'Feature2', 'Feature3', 'Feature4'])\n",
        "\n",
        "# Rename the column names\n",
        "df = df.rename(columns={'Feature1': 'Random value 1',\n",
        "                        'Feature2': 'Random value 2',\n",
        "                        'Feature3': 'Random value 3',\n",
        "                        'Feature4': 'Random value 4'})\n",
        "\n",
        "# Print the DataFrame\n",
        "print(df)\n"
      ],
      "metadata": {
        "colab": {
          "base_uri": "https://localhost:8080/"
        },
        "id": "qwHLmvOorFu0",
        "outputId": "4d879dd0-b878-455f-a8bf-9d44fef7feb3"
      },
      "execution_count": null,
      "outputs": [
        {
          "output_type": "stream",
          "name": "stdout",
          "text": [
            "   Random value 1  Random value 2  Random value 3  Random value 4\n",
            "0        0.696469        0.286139        0.226851        0.551315\n",
            "1        0.719469        0.423106        0.980764        0.684830\n",
            "2        0.480932        0.392118        0.343178        0.729050\n",
            "3        0.438572        0.059678        0.398044        0.737995\n"
          ]
        }
      ]
    },
    {
      "cell_type": "code",
      "source": [
        "import pandas as pd\n",
        "\n",
        "# Assuming the 'df' DataFrame has already been created\n",
        "\n",
        "# Compute the descriptive statistics\n",
        "statistics = df.describe()\n",
        "\n",
        "# Print the descriptive statistics\n",
        "print(statistics)\n"
      ],
      "metadata": {
        "colab": {
          "base_uri": "https://localhost:8080/"
        },
        "id": "re8FXSLbrP4k",
        "outputId": "b4703af2-264c-49b6-cb60-1c63d1651fdb"
      },
      "execution_count": null,
      "outputs": [
        {
          "output_type": "stream",
          "name": "stdout",
          "text": [
            "       Random value 1  Random value 2  Random value 3  Random value 4\n",
            "count        4.000000        4.000000        4.000000        4.000000\n",
            "mean         0.583861        0.290260        0.487209        0.675797\n",
            "std          0.144653        0.164528        0.336689        0.086182\n",
            "min          0.438572        0.059678        0.226851        0.551315\n",
            "25%          0.470342        0.229524        0.314096        0.651451\n",
            "50%          0.588701        0.339128        0.370611        0.706940\n",
            "75%          0.702219        0.399865        0.543724        0.731286\n",
            "max          0.719469        0.423106        0.980764        0.737995\n"
          ]
        }
      ]
    },
    {
      "cell_type": "code",
      "source": [
        "import pandas as pd\n",
        "\n",
        "# Assuming the 'df' DataFrame has already been created\n",
        "\n",
        "# Check for null values\n",
        "null_values = df.isnull().sum()\n",
        "\n",
        "# Find the data type of each column\n",
        "column_data_types = df.dtypes\n",
        "\n",
        "# Print the null values and column data types\n",
        "print(\"Null Values:\\n\", null_values)\n",
        "print(\"\\nColumn Data Types:\\n\", column_data_types)\n"
      ],
      "metadata": {
        "colab": {
          "base_uri": "https://localhost:8080/"
        },
        "id": "MpquGyUcrTqD",
        "outputId": "4d5508bb-74f7-4671-d6dc-6b8ffa954b6f"
      },
      "execution_count": null,
      "outputs": [
        {
          "output_type": "stream",
          "name": "stdout",
          "text": [
            "Null Values:\n",
            " Random value 1    0\n",
            "Random value 2    0\n",
            "Random value 3    0\n",
            "Random value 4    0\n",
            "dtype: int64\n",
            "\n",
            "Column Data Types:\n",
            " Random value 1    float64\n",
            "Random value 2    float64\n",
            "Random value 3    float64\n",
            "Random value 4    float64\n",
            "dtype: object\n"
          ]
        }
      ]
    },
    {
      "cell_type": "code",
      "source": [
        "# Using loc[]\n",
        "random_value_2_3_loc = df.loc[:, ['Random value 2', 'Random value 3']]\n",
        "print(\"Using loc[]:\")\n",
        "print(random_value_2_3_loc)\n",
        "\n",
        "# Using iloc[]\n",
        "random_value_2_3_iloc = df.iloc[:, [1, 2]]\n",
        "print(\"\\nUsing iloc[]:\")\n",
        "print(random_value_2_3_iloc)\n"
      ],
      "metadata": {
        "colab": {
          "base_uri": "https://localhost:8080/"
        },
        "id": "kgdAcB1XrcRC",
        "outputId": "72b28787-7b94-4b4b-fea7-10404295e208"
      },
      "execution_count": null,
      "outputs": [
        {
          "output_type": "stream",
          "name": "stdout",
          "text": [
            "Using loc[]:\n",
            "   Random value 2  Random value 3\n",
            "0        0.286139        0.226851\n",
            "1        0.423106        0.980764\n",
            "2        0.392118        0.343178\n",
            "3        0.059678        0.398044\n",
            "\n",
            "Using iloc[]:\n",
            "   Random value 2  Random value 3\n",
            "0        0.286139        0.226851\n",
            "1        0.423106        0.980764\n",
            "2        0.392118        0.343178\n",
            "3        0.059678        0.398044\n"
          ]
        }
      ]
    }
  ]
}